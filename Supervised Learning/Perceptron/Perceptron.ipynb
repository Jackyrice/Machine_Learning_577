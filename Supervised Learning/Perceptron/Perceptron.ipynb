{
 "cells": [
  {
   "cell_type": "markdown",
   "id": "03fa76a3",
   "metadata": {},
   "source": [
    "# Perceptron\n",
    "----\n",
    "**Overview**：Perceptron (perceptron) is a binary linear model whose input is a feature vector and output is a category.Perceptron works by dividing the data into positive and negative hyperplanes. It is arguably the most basic classifier in machine learning.\n",
    "\n",
    "----\n",
    "## Artificial Neuron as Mathematic Notation\n",
    "In general terms, an input X is multiplied by a weight W and added a bias b producing the net activation. \n",
    "<img style=\"max-width:60%;max-height:60%;\" src=\"https://miro.medium.com/max/1290/1*-JtN9TWuoZMz7z9QKbT85A.png\">\n",
    "\n",
    "We can summarize an artificial neuron with the following mathematical expression:\n",
    "$$\n",
    "\\hat{y} = f\\left(\\text{net}\\right)= f\\left(\\vec{w}\\cdot\\vec{x}+b\\right) = f\\left(\\sum_{i=1}^{n}{w_i x_i + b}\\right)\n",
    "$$\n",
    "\n",
    "-------\n",
    "### Basic Neuron \n",
    "$$\n",
    "\\hat{y} = f\\left(\\vec{w}\\cdot\\vec{x} + b) = f( w_{1}x_{1} + w_2x_{2} + \\cdots + w_nx_{n}+b\\right)\\,\n",
    "$$\n",
    "\n",
    "After that, we update the weights and the bias using as:\n",
    "\n",
    "$$\n",
    "\\hat{w_i} = w_i + \\alpha (y - \\hat{y}) x_{i} \\,,\\  i=1,\\ldots,n\\,;\\\\\n",
    "$$\n",
    "$$\n",
    "\\hat{b} = b + \\alpha (y - \\hat{y})\\,.\n",
    "$$"
   ]
  },
  {
   "cell_type": "code",
   "execution_count": 1,
   "id": "b71a606c",
   "metadata": {},
   "outputs": [],
   "source": [
    "import matplotlib.pyplot as plt\n",
    "import numpy as np"
   ]
  },
  {
   "cell_type": "markdown",
   "id": "d83091c6",
   "metadata": {},
   "source": [
    "# generate the separable data"
   ]
  },
  {
   "cell_type": "code",
   "execution_count": 1,
   "id": "c570457d",
   "metadata": {},
   "outputs": [],
   "source": [
    "\n",
    "def generate_separable_data(N):\n",
    "    np.random.seed(2333)  # for reproducibility\n",
    "    w = np.random.uniform(-1, 1, 2)\n",
    "    b = np.random.uniform(-1, 1)\n",
    "    X = np.random.uniform(-1, 1, [N, 2])\n",
    "    y = np.sign(np.inner(w, X)+b)\n",
    "    return X,y,w,b"
   ]
  },
  {
   "cell_type": "markdown",
   "id": "ddb65e8c",
   "metadata": {},
   "source": [
    "# generate the non separable data"
   ]
  },
  {
   "cell_type": "code",
   "execution_count": 2,
   "id": "720be5d2",
   "metadata": {},
   "outputs": [],
   "source": [
    "def generate_non_separable_data(N):\n",
    "    np.random.seed(2333)  # for reproducibility\n",
    "    w = np.random.uniform(-1, 1, 2)\n",
    "    b = np.random.uniform(-1, 1)\n",
    "    X = np.random.uniform(-1, 1, [N, 2])\n",
    "    y = np.sign(np.inner(w, X)+b)\n",
    "    for i in range(len(y)):\n",
    "        if y[i] == -1:\n",
    "            y[i] = 1\n",
    "            break\n",
    "            \n",
    "    return X,y,w,b"
   ]
  },
  {
   "cell_type": "markdown",
   "id": "acfd2751",
   "metadata": {},
   "source": [
    "# Plot function"
   ]
  },
  {
   "cell_type": "code",
   "execution_count": 4,
   "id": "dac5536f",
   "metadata": {},
   "outputs": [],
   "source": [
    "#plot the data \n",
    "def plot_data(X, y, w, b) :\n",
    "    fig = plt.figure(figsize=(4,4))\n",
    "    plt.xlim(-1,1)\n",
    "    plt.ylim(-1,1)\n",
    "    a = -w[0]/w[1]\n",
    "    pts = np.linspace(-1,1)\n",
    "    plt.plot(pts, a*pts-(b/w[1]), 'k-')\n",
    "    cols = {1: 'r', -1: 'b'}\n",
    "    for i in range(len(X)): \n",
    "        plt.plot(X[i][0], X[i][1], cols[y[i]]+'o')\n",
    "    plt.show()"
   ]
  },
  {
   "cell_type": "code",
   "execution_count": 5,
   "id": "abb4f257",
   "metadata": {},
   "outputs": [
    {
     "data": {
      "image/png": "[encoded data removed]",
      "text/plain": [
       "<Figure size 288x288 with 1 Axes>"
      ]
     },
     "metadata": {
      "needs_background": "light"
     },
     "output_type": "display_data"
    }
   ],
   "source": [
    "X,y,w,b = generate_separable_data(50)\n",
    "plot_data(X, y, w,b)"
   ]
  },
  {
   "cell_type": "markdown",
   "id": "0f89b223",
   "metadata": {},
   "source": [
    "# Perceptron Algorithm Implementation"
   ]
  },
  {
   "cell_type": "code",
   "execution_count": 6,
   "id": "17b14f78",
   "metadata": {},
   "outputs": [],
   "source": [
    "class Perceptron :\n",
    " \n",
    "    \"\"\"An implementation of the perceptron algorithm.\"\"\"\n",
    " \n",
    "    def __init__(self, max_iterations=100, learning_rate=0.2) :\n",
    " \n",
    "        self.max_iterations = max_iterations\n",
    "        self.learning_rate = learning_rate\n",
    " \n",
    "    def fit(self, X, y) :\n",
    "        X = self.add_bias(X,y)\n",
    "        \n",
    "        self.w = np.zeros(len(X[0]))\n",
    "\n",
    "        converged = False\n",
    "        iterations = 0\n",
    "        while (not converged and iterations <= self.max_iterations) :\n",
    "            converged = True\n",
    "            for i in range(len(X)) :\n",
    "                if y[i] * self.decision_function(X[i]) <= 0 :\n",
    "                    self.w = self.w + y[i] * self.learning_rate * X[i]\n",
    "                    converged = False\n",
    "            iterations += 1\n",
    "        self.converged = converged\n",
    "        plot_data(X[:,1:], y, self.w[1:],self.w[0])\n",
    "        if converged :\n",
    "            print ('converged in %d iterations ' % iterations)\n",
    "        else:\n",
    "            print ('cannot converged in %d iterations ' % iterations)\n",
    "\n",
    "        print ('weight vector: ' + str(self.w))\n",
    "\n",
    "    def decision_function(self, x) :\n",
    "        return np.inner(self.w, x)\n",
    "\n",
    "    def predict(self, X) :\n",
    "        scores = np.inner(self.w, X)\n",
    "        return np.sign(scores)\n",
    "    \n",
    "    def add_bias(self,X,y):\n",
    "        a = np.ones(X.shape[0])\n",
    "        X = np.insert(X, 0, values=a, axis=1)\n",
    "        return X\n",
    "    def error(self,X,y):\n",
    "        num = 0\n",
    "        err_sco = self.predict(X)\n",
    "        num =sum (err_sco!=y)\n",
    "        return num/len(X)"
   ]
  },
  {
   "cell_type": "markdown",
   "id": "51ae52d6",
   "metadata": {},
   "source": [
    "# Result of classifying different kind of data"
   ]
  },
  {
   "cell_type": "code",
   "execution_count": 7,
   "id": "367df715",
   "metadata": {
    "scrolled": true
   },
   "outputs": [
    {
     "data": {
      "image/png": "[encoded data removed]",
      "text/plain": [
       "<Figure size 288x288 with 1 Axes>"
      ]
     },
     "metadata": {
      "needs_background": "light"
     },
     "output_type": "display_data"
    },
    {
     "name": "stdout",
     "output_type": "stream",
     "text": [
      "converged in 41 iterations \n",
      "weight vector: [-1.          0.07009608  1.53050105]\n"
     ]
    }
   ],
   "source": [
    "X,y,w,b = generate_separable_data(100)\n",
    "p = Perceptron()\n",
    "p.fit(X,y)"
   ]
  },
  {
   "cell_type": "code",
   "execution_count": null,
   "id": "52f05bad",
   "metadata": {},
   "outputs": [],
   "source": []
  },
  {
   "cell_type": "code",
   "execution_count": 8,
   "id": "0d1de594",
   "metadata": {
    "scrolled": true
   },
   "outputs": [
    {
     "data": {
      "image/png": "[encoded data removed]",
      "text/plain": [
       "<Figure size 288x288 with 1 Axes>"
      ]
     },
     "metadata": {
      "needs_background": "light"
     },
     "output_type": "display_data"
    },
    {
     "name": "stdout",
     "output_type": "stream",
     "text": [
      "cannot converged in 101 iterations \n",
      "weight vector: [-0.4        -0.08723007  0.56359207]\n"
     ]
    }
   ],
   "source": [
    "X,y,w,b = generate_non_separable_data(100)\n",
    "p = Perceptron()\n",
    "p.fit(X,y)"
   ]
  },
  {
   "cell_type": "markdown",
   "id": "1a4da77e",
   "metadata": {},
   "source": [
    "# Conclusion\n",
    "As we can see in the figure above, Perceptron does not perform well for non separable data."
   ]
  },
  {
   "cell_type": "code",
   "execution_count": null,
   "id": "80538f80",
   "metadata": {},
   "outputs": [],
   "source": []
  }
 ],
 "metadata": {
  "kernelspec": {
   "display_name": "Python 3",
   "language": "python",
   "name": "python3"
  },
  "language_info": {
   "codemirror_mode": {
    "name": "ipython",
    "version": 3
   },
   "file_extension": ".py",
   "mimetype": "text/x-python",
   "name": "python",
   "nbconvert_exporter": "python",
   "pygments_lexer": "ipython3",
   "version": "3.8.8"
  }
 },
 "nbformat": 4,
 "nbformat_minor": 5
}
