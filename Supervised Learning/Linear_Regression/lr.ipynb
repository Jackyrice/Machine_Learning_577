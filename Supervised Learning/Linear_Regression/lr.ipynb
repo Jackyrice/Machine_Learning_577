{
 "cells": [
  {
   "cell_type": "markdown",
   "metadata": {},
   "source": [
    "# Linear Regression\n",
    "----\n",
    "Linear regression is a **supervised learining** algorithm used when target / dependent variable  **continues** real number. It establishes relationship between dependent variable $y$ and one or more independent variable $x$ using best fit line.   It work on the principle of ordinary least square $(OLS)$ / Mean square errror $(MSE)$. In statistics ols is method to estimated unkown parameter of linear regression function, it's goal is to minimize sum of square difference between observed dependent variable in the given data set and those predicted by linear regression fuction. \n",
    "\n",
    "We will use $\\mathbf{x_i}$ to denote the independent variable and $\\mathbf{y_i}$ to denote dependent variable. A pair of $\\mathbf{(x_i,y_i)}$ is called training example. The subscripe $\\mathbf{i}$ in the notation is simply index into the training set. We have $\\mathbf{m}$ training example then $\\mathbf{i = 1,2,3,...m}$.\n",
    "\n",
    "The goal of supervised learning is to learn a *hypothesis function $\\mathbf{h}$*, for a given training set that can used to estimate $\\mathbf{y}$ based on $\\mathbf{x}$. So hypothesis fuction represented as \n",
    "\n",
    "$$\\mathbf{ h_\\theta(x_{i}) = \\theta_0 + \\theta_1x_i }$$   \n",
    "$\\mathbf{\\theta_0,\\theta_1}$ are parameter of hypothesis.This is equation for **Simple / Univariate Linear regression**. \n",
    "For **Multiple Linear regression** more than one independent variable exit then we will use $\\mathbf{x_{ij}}$ to denote indepedent variable and $\\mathbf{y_{i}}$ to denote dependent variable. We have $\\mathbf{n}$ independent variable then $\\mathbf{j=1,2,3 ..... n}$. The hypothesis function represented as\n",
    "\n",
    "$$\\mathbf{h_\\theta(x_{i}) = \\theta_0 + \\theta_1x_{i1} + \\theta_2 x_{i2} + ..... \\theta_j x_{ij} ...... \\theta_n  x_{mn} }$$\n",
    "$\\mathbf{\\theta_0,\\theta_1,....\\theta_j....\\theta_n }$ are parameter of hypothesis,\n",
    "$\\mathbf{m}$ Number of training exaples,\n",
    "$\\mathbf{n}$ Number of independent variable,\n",
    "$\\mathbf{x_{ij}}$ is $\\mathbf{i^{th}}$ training exaple of $\\mathbf{j^{th}}$ feature.\n"
   ]
  },
  {
   "cell_type": "code",
   "execution_count": 2,
   "metadata": {},
   "outputs": [],
   "source": [
    "import pandas as pd\n",
    "import numpy as np\n",
    "import sklearn as sk\n",
    "from sklearn.linear_model import LinearRegression\n",
    "import matplotlib.pyplot as plt \n",
    "from sklearn import metrics\n",
    "from sklearn.model_selection import train_test_split"
   ]
  },
  {
   "cell_type": "markdown",
   "metadata": {},
   "source": [
    "## Import and clean data"
   ]
  },
  {
   "cell_type": "code",
   "execution_count": 3,
   "metadata": {},
   "outputs": [],
   "source": [
    "\n",
    "data = pd.read_csv(\"austin_final.csv\")\n",
    "X = data.drop(['PrecipitationSumInches'], axis = 1)\n",
    "Y = data['PrecipitationSumInches']\n",
    "Y = Y.values.reshape(-1, 1)"
   ]
  },
  {
   "cell_type": "code",
   "execution_count": 4,
   "metadata": {},
   "outputs": [],
   "source": [
    "# consider a random day in the dataset, we shall plot a graph and observe this day.\n",
    "day_index = 400\n",
    "days = [i for i in range(Y.size)]"
   ]
  },
  {
   "cell_type": "markdown",
   "metadata": {},
   "source": [
    "## Train the data"
   ]
  },
  {
   "cell_type": "code",
   "execution_count": 5,
   "metadata": {},
   "outputs": [
    {
     "name": "stdout",
     "output_type": "stream",
     "text": [
      "coefficient of determination: 0.30447244679233\n",
      "intercept: [-0.6103453]\n",
      "slope: [[ 7.28405516e-06  2.32569181e-02 -3.87120305e-02  2.12409619e-02\n",
      "   1.24559313e-02 -2.81976050e-02  1.28797632e-02  3.98413527e-03\n",
      "  -1.22641792e-02  1.23211123e-02 -3.15143899e-03  1.04382360e-01\n",
      "  -9.45018129e-02 -7.04748446e-03  4.83882460e-02 -4.20175953e-02\n",
      "  -3.44113535e-03]]\n"
     ]
    }
   ],
   "source": [
    "clf = LinearRegression()\n",
    "# train the classifier with our input data.\n",
    "clf.fit(X, Y)\n",
    "# return value R^2.\n",
    "r_sq = clf.score(X, Y)\n",
    "print('coefficient of determination:', r_sq)\n",
    "print('intercept:', clf.intercept_)\n",
    "print('slope:', clf.coef_)"
   ]
  },
  {
   "cell_type": "markdown",
   "metadata": {},
   "source": [
    "## Visualization"
   ]
  },
  {
   "cell_type": "code",
   "execution_count": 6,
   "metadata": {},
   "outputs": [
    {
     "name": "stdout",
     "output_type": "stream",
     "text": [
      "the precipitation trend graph: \n"
     ]
    },
    {
     "data": {
      "image/png": "[encoded data removed]",
      "text/plain": [
       "<Figure size 432x288 with 1 Axes>"
      ]
     },
     "metadata": {
      "needs_background": "light"
     },
     "output_type": "display_data"
    }
   ],
   "source": [
    "print(\"the precipitation trend graph: \")\n",
    "plt.scatter(days, Y, color = 'g', s = 1)\n",
    "plt.scatter(days[day_index], Y[day_index], color ='r', s = 1)\n",
    "plt.title(\"Precipitation level\")\n",
    "plt.xlabel(\"Days\")\n",
    "plt.ylabel(\"Precipitation in inches\")\n",
    "plt.show()"
   ]
  },
  {
   "cell_type": "code",
   "execution_count": 7,
   "metadata": {},
   "outputs": [],
   "source": [
    "# predict the rainfall by separating data into training and testing.\n",
    "X_train, X_test, y_train, y_test = train_test_split(X, Y, random_state=1)\n",
    "lm2 = LinearRegression()\n",
    "\n",
    "# Fit Model\n",
    "lm2.fit(X_train, y_train)\n",
    "\n",
    "# Predict\n",
    "y_pred = lm2.predict(X_test)"
   ]
  },
  {
   "cell_type": "markdown",
   "metadata": {},
   "source": [
    "## Plot the result"
   ]
  },
  {
   "cell_type": "code",
   "execution_count": 8,
   "metadata": {},
   "outputs": [
    {
     "data": {
      "image/png": "[encoded data removed]",
      "text/plain": [
       "<Figure size 432x288 with 1 Axes>"
      ]
     },
     "metadata": {
      "needs_background": "light"
     },
     "output_type": "display_data"
    }
   ],
   "source": [
    "plt.scatter(y_test, y_pred, s = 2)\n",
    "plt.plot([y_test.min(), y_test.max()], [y_test.min(), y_test.max()], 'k--', lw=2)\n",
    "# plt.scatter( y_test.max(),  y_test.max(), color ='r')\n",
    "plt.xlabel('Measured')\n",
    "plt.ylabel('Predicted')\n",
    "\n",
    "plt.show()"
   ]
  },
  {
   "cell_type": "code",
   "execution_count": 9,
   "metadata": {},
   "outputs": [
    {
     "name": "stdout",
     "output_type": "stream",
     "text": [
      "mean squared error is 0.3448907165931604\n",
      "mean absolute error is 0.18018544198585779\n"
     ]
    }
   ],
   "source": [
    "# RMSE\n",
    "print(\"mean squared error is\",np.sqrt(metrics.mean_squared_error(y_test, y_pred)))\n",
    "print(\"mean absolute error is\",metrics.mean_absolute_error(y_test, y_pred))"
   ]
  },
  {
   "cell_type": "markdown",
   "metadata": {},
   "source": [
    "## Conclusion\n",
    "In the case, the MSE is big means that the linear regression doesn't perform well I think the data about rainfall is too complex. The linear regression could just do some simple data classification.\n"
   ]
  },
  {
   "cell_type": "code",
   "execution_count": null,
   "metadata": {},
   "outputs": [],
   "source": []
  }
 ],
 "metadata": {
  "interpreter": {
   "hash": "f5603b84a2eaa614a01d1bce68e44d66619b9f46ea68dc027a52cc8a541fdfdc"
  },
  "kernelspec": {
   "display_name": "Python 3",
   "language": "python",
   "name": "python3"
  },
  "language_info": {
   "codemirror_mode": {
    "name": "ipython",
    "version": 3
   },
   "file_extension": ".py",
   "mimetype": "text/x-python",
   "name": "python",
   "nbconvert_exporter": "python",
   "pygments_lexer": "ipython3",
   "version": "3.8.8"
  }
 },
 "nbformat": 4,
 "nbformat_minor": 2
}
