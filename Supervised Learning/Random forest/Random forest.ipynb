{
 "cells": [
  {
   "cell_type": "markdown",
   "id": "8977ce2d",
   "metadata": {},
   "source": [
    "# Random Forest\n",
    "-----\n",
    "Random Forest is one of the most popular and most powerful machine learning algorithms. It is a type of ensemble machine learning algorithm called Bootstrap Aggregation or bagging.\n",
    "\n",
    "-----\n",
    "### Each tree is generated according to the following rules：\n",
    "- 1）Specify the size of the training set of a single decision tree as N. For each tree, N training samples are drawn randomly and with release from the total training set (this sampling method is called bootstrap sample method) as the training set of the tree.\n",
    "- 2）If the feature dimension of each sample is M, specify a constant m<<M, randomly select a subset of m features from the M features, and choose the optimal one from these m features each time the tree is split.\n",
    "- 3）Each tree is grown to the maximum extent possible and there is no pruning process.\n",
    "\n",
    "----\n",
    "### Advantage of RandomForest\n",
    "- High accuracy rates of all current algorithms.\n",
    "- The ability to operate effectively on large data sets.\n",
    "- The ability to handle input samples with high dimensionality and without the need for dimensionality reduction.\n",
    "- The ability to evaluate the importance of individual features on the classification problem.\n",
    "\n",
    "### Disadvantage of RandomForest\n",
    "- The biggest disadvantage of random forests is its computational complexity. Random forests is very slow in making predictions because large number of decision-trees are used to make predictions. All the trees in the forest have to make a prediction for the same input and then perform voting on it. So, it is a time-consuming process.\n",
    "- The model is difficult to interpret as compared to a decision-tree, where we can easily make a prediction as compared to a decision-tree.\n",
    "----\n",
    "## Schematic diagram\n",
    "\n",
    "![Random Forest](https://i.ytimg.com/vi/goPiwckWE9M/maxresdefault.jpg)"
   ]
  },
  {
   "cell_type": "code",
   "execution_count": 1,
   "id": "13dee356",
   "metadata": {},
   "outputs": [],
   "source": [
    "import numpy as np\n",
    "import pandas as pd\n",
    "import matplotlib.pyplot as plt"
   ]
  },
  {
   "cell_type": "code",
   "execution_count": 3,
   "id": "86f07534",
   "metadata": {},
   "outputs": [
    {
     "data": {
      "text/html": [
       "<div>\n",
       "<style scoped>\n",
       "    .dataframe tbody tr th:only-of-type {\n",
       "        vertical-align: middle;\n",
       "    }\n",
       "\n",
       "    .dataframe tbody tr th {\n",
       "        vertical-align: top;\n",
       "    }\n",
       "\n",
       "    .dataframe thead th {\n",
       "        text-align: right;\n",
       "    }\n",
       "</style>\n",
       "<table border=\"1\" class=\"dataframe\">\n",
       "  <thead>\n",
       "    <tr style=\"text-align: right;\">\n",
       "      <th></th>\n",
       "      <th>age</th>\n",
       "      <th>anaemia</th>\n",
       "      <th>creatinine_phosphokinase</th>\n",
       "      <th>diabetes</th>\n",
       "      <th>ejection_fraction</th>\n",
       "      <th>high_blood_pressure</th>\n",
       "      <th>platelets</th>\n",
       "      <th>serum_creatinine</th>\n",
       "      <th>serum_sodium</th>\n",
       "      <th>sex</th>\n",
       "      <th>smoking</th>\n",
       "      <th>time</th>\n",
       "      <th>DEATH_EVENT</th>\n",
       "    </tr>\n",
       "  </thead>\n",
       "  <tbody>\n",
       "    <tr>\n",
       "      <th>0</th>\n",
       "      <td>75.0</td>\n",
       "      <td>0</td>\n",
       "      <td>582</td>\n",
       "      <td>0</td>\n",
       "      <td>20</td>\n",
       "      <td>1</td>\n",
       "      <td>265000.00</td>\n",
       "      <td>1.9</td>\n",
       "      <td>130</td>\n",
       "      <td>1</td>\n",
       "      <td>0</td>\n",
       "      <td>4</td>\n",
       "      <td>1</td>\n",
       "    </tr>\n",
       "    <tr>\n",
       "      <th>1</th>\n",
       "      <td>55.0</td>\n",
       "      <td>0</td>\n",
       "      <td>7861</td>\n",
       "      <td>0</td>\n",
       "      <td>38</td>\n",
       "      <td>0</td>\n",
       "      <td>263358.03</td>\n",
       "      <td>1.1</td>\n",
       "      <td>136</td>\n",
       "      <td>1</td>\n",
       "      <td>0</td>\n",
       "      <td>6</td>\n",
       "      <td>1</td>\n",
       "    </tr>\n",
       "    <tr>\n",
       "      <th>2</th>\n",
       "      <td>65.0</td>\n",
       "      <td>0</td>\n",
       "      <td>146</td>\n",
       "      <td>0</td>\n",
       "      <td>20</td>\n",
       "      <td>0</td>\n",
       "      <td>162000.00</td>\n",
       "      <td>1.3</td>\n",
       "      <td>129</td>\n",
       "      <td>1</td>\n",
       "      <td>1</td>\n",
       "      <td>7</td>\n",
       "      <td>1</td>\n",
       "    </tr>\n",
       "    <tr>\n",
       "      <th>3</th>\n",
       "      <td>50.0</td>\n",
       "      <td>1</td>\n",
       "      <td>111</td>\n",
       "      <td>0</td>\n",
       "      <td>20</td>\n",
       "      <td>0</td>\n",
       "      <td>210000.00</td>\n",
       "      <td>1.9</td>\n",
       "      <td>137</td>\n",
       "      <td>1</td>\n",
       "      <td>0</td>\n",
       "      <td>7</td>\n",
       "      <td>1</td>\n",
       "    </tr>\n",
       "    <tr>\n",
       "      <th>4</th>\n",
       "      <td>65.0</td>\n",
       "      <td>1</td>\n",
       "      <td>160</td>\n",
       "      <td>1</td>\n",
       "      <td>20</td>\n",
       "      <td>0</td>\n",
       "      <td>327000.00</td>\n",
       "      <td>2.7</td>\n",
       "      <td>116</td>\n",
       "      <td>0</td>\n",
       "      <td>0</td>\n",
       "      <td>8</td>\n",
       "      <td>1</td>\n",
       "    </tr>\n",
       "  </tbody>\n",
       "</table>\n",
       "</div>"
      ],
      "text/plain": [
       "    age  anaemia  creatinine_phosphokinase  diabetes  ejection_fraction  \\\n",
       "0  75.0        0                       582         0                 20   \n",
       "1  55.0        0                      7861         0                 38   \n",
       "2  65.0        0                       146         0                 20   \n",
       "3  50.0        1                       111         0                 20   \n",
       "4  65.0        1                       160         1                 20   \n",
       "\n",
       "   high_blood_pressure  platelets  serum_creatinine  serum_sodium  sex  \\\n",
       "0                    1  265000.00               1.9           130    1   \n",
       "1                    0  263358.03               1.1           136    1   \n",
       "2                    0  162000.00               1.3           129    1   \n",
       "3                    0  210000.00               1.9           137    1   \n",
       "4                    0  327000.00               2.7           116    0   \n",
       "\n",
       "   smoking  time  DEATH_EVENT  \n",
       "0        0     4            1  \n",
       "1        0     6            1  \n",
       "2        1     7            1  \n",
       "3        0     7            1  \n",
       "4        0     8            1  "
      ]
     },
     "execution_count": 3,
     "metadata": {},
     "output_type": "execute_result"
    }
   ],
   "source": [
    "heart = pd.read_csv('heart_failure_clinical_records_dataset.csv')\n",
    "heart.head()"
   ]
  },
  {
   "cell_type": "markdown",
   "id": "bc49481a",
   "metadata": {},
   "source": [
    "# Visualization of 2 features\n",
    "\n",
    "You can visualize by taking any two features and plotting them along with the axes. As the target takes binary values, I have used 2 different colours to represent the values, Red for Deceased (1) and Blue for Not Deceased (0). Here I have taken Age and Number of Platelets along with Horizontal and Vertical axes respectively."
   ]
  },
  {
   "cell_type": "code",
   "execution_count": 4,
   "id": "81370704",
   "metadata": {},
   "outputs": [
    {
     "data": {
      "image/png": "[encoded data removed]",
      "text/plain": [
       "<Figure size 432x288 with 1 Axes>"
      ]
     },
     "metadata": {
      "needs_background": "light"
     },
     "output_type": "display_data"
    }
   ],
   "source": [
    "X_age_0 = [heart['age'][i] for i in range(len(heart)) if heart['DEATH_EVENT'][i]==0]\n",
    "X_age_1 = [heart['age'][i] for i in range(len(heart)) if heart['DEATH_EVENT'][i]==1]\n",
    "\n",
    "y_diabetes_0 = [heart['platelets'][i] for i in range(len(heart)) if heart['DEATH_EVENT'][i]==0]\n",
    "y_diabetes_1 = [heart['platelets'][i] for i in range(len(heart)) if heart['DEATH_EVENT'][i]==1]\n",
    "\n",
    "plt.scatter(X_age_0, y_diabetes_0, color='blue')\n",
    "plt.scatter(X_age_1, y_diabetes_1, color='red')\n",
    "plt.xlabel('Age')\n",
    "plt.ylabel('Platelets')\n",
    "plt.legend(['Class 0', 'Class 1'])\n",
    "plt.show()"
   ]
  },
  {
   "cell_type": "markdown",
   "id": "55d226a3",
   "metadata": {},
   "source": [
    "# Splitting Dataset and applying Random Forest Classifier\n",
    "\n",
    "In this step, the dataset is split into Train set and Validation set. 70% of the instances have been used for Training and rest 30% have been used in Validation of the model. You can further split the Validation Set into Test Set and Validation Set.\n"
   ]
  },
  {
   "cell_type": "code",
   "execution_count": 5,
   "id": "b4b5cdc3",
   "metadata": {},
   "outputs": [
    {
     "name": "stdout",
     "output_type": "stream",
     "text": [
      "Train Score : 1.0 \t Validation Score : 0.8555555555555555\n",
      "{'bootstrap': True, 'ccp_alpha': 0.0, 'class_weight': None, 'criterion': 'gini', 'max_depth': None, 'max_features': 'auto', 'max_leaf_nodes': None, 'max_samples': None, 'min_impurity_decrease': 0.0, 'min_impurity_split': None, 'min_samples_leaf': 1, 'min_samples_split': 2, 'min_weight_fraction_leaf': 0.0, 'n_estimators': 100, 'n_jobs': None, 'oob_score': False, 'random_state': None, 'verbose': 0, 'warm_start': False}\n"
     ]
    }
   ],
   "source": [
    "X = np.array([heart.loc[i][:-1] for i in range(len(heart))])\n",
    "y = np.array(heart['DEATH_EVENT'])\n",
    "\n",
    "from sklearn.model_selection import train_test_split\n",
    "X_train, X_test, y_train, y_test = train_test_split(X, y, test_size = 0.3)\n",
    "\n",
    "from sklearn.ensemble import RandomForestClassifier\n",
    "clf = RandomForestClassifier()\n",
    "clf.fit(X_train, y_train)\n",
    "print(f\"Train Score : {clf.score(X_train, y_train)} \\t Validation Score : {clf.score(X_test, y_test)}\")\n",
    "print(clf.get_params())"
   ]
  },
  {
   "cell_type": "markdown",
   "id": "750e69b1",
   "metadata": {},
   "source": [
    "# Probability of Predicted Classes\n",
    "\n",
    "We can get the probabilities of predictions for each class. At a high level, we get the classification as the class having highest predicted probability. For example, in the first instance below, the model has predicted Class 0 to be 0.92 and Class $1$ to be 0.08, therefore the Class prediction is 0. I have used the inbuilt predict_proba() function to get the class prediction probabilities."
   ]
  },
  {
   "cell_type": "code",
   "execution_count": 6,
   "id": "8c8630e5",
   "metadata": {},
   "outputs": [
    {
     "name": "stdout",
     "output_type": "stream",
     "text": [
      "Predictions : [0 0 0 0 1 0 1 0 0 0]\n",
      "Pred Prob : [[0.75 0.25]\n",
      " [0.99 0.01]\n",
      " [0.95 0.05]\n",
      " [0.92 0.08]\n",
      " [0.32 0.68]\n",
      " [0.64 0.36]\n",
      " [0.29 0.71]\n",
      " [0.64 0.36]\n",
      " [0.99 0.01]\n",
      " [0.91 0.09]]\n"
     ]
    }
   ],
   "source": [
    "y_pred = clf.predict(X_test)\n",
    "y_pred_prob = clf.predict_proba(X_test)\n",
    "print(f\"Predictions : {y_pred[:10]}\\nPred Prob : {y_pred_prob[:10]}\")"
   ]
  },
  {
   "cell_type": "markdown",
   "id": "779a7a24",
   "metadata": {},
   "source": [
    "# Computing ROC Curve and AUC Score\n",
    "\n",
    "ROC stands Receiver Operator Characteristics** for and AUC means Area Under the Curve. Higher value of AUC means our binary classifier can efficiently distinguish between Class $0$ and Class $1$. \n",
    "\n",
    "Using ```Scikits-learn```'s inbuilt methods, you can obtain these easily."
   ]
  },
  {
   "cell_type": "code",
   "execution_count": 10,
   "id": "1f6f9823",
   "metadata": {},
   "outputs": [
    {
     "data": {
      "image/png": "[encoded data removed]",
      "text/plain": [
       "<Figure size 432x288 with 1 Axes>"
      ]
     },
     "metadata": {
      "needs_background": "light"
     },
     "output_type": "display_data"
    },
    {
     "name": "stdout",
     "output_type": "stream",
     "text": [
      "AUC Score : 0.9412247129579004\n"
     ]
    }
   ],
   "source": [
    "from sklearn.metrics import roc_auc_score, roc_curve\n",
    "fpr0, tpr0, _ = roc_curve(y_test, y_pred_prob[:,1])\n",
    "\n",
    "plt.plot(fpr0, tpr0)\n",
    "plt.xlabel('False Positive Rate')\n",
    "plt.ylabel('True Positive Rate')\n",
    "plt.title('ROC Curve')\n",
    "plt.show()\n",
    "\n",
    "print(f\"AUC Score : {roc_auc_score(y_test, y_pred_prob[:,1])}\")"
   ]
  },
  {
   "cell_type": "markdown",
   "id": "2012e54e",
   "metadata": {},
   "source": [
    "# Conclusion\n",
    "The AUC score of RandomForest is 0.94, which prooves that it has high accuaracy"
   ]
  },
  {
   "cell_type": "code",
   "execution_count": null,
   "id": "bcd4ac58",
   "metadata": {},
   "outputs": [],
   "source": [
    "\n"
   ]
  },
  {
   "cell_type": "code",
   "execution_count": null,
   "id": "b51387d9",
   "metadata": {},
   "outputs": [],
   "source": []
  }
 ],
 "metadata": {
  "kernelspec": {
   "display_name": "Python 3",
   "language": "python",
   "name": "python3"
  },
  "language_info": {
   "codemirror_mode": {
    "name": "ipython",
    "version": 3
   },
   "file_extension": ".py",
   "mimetype": "text/x-python",
   "name": "python",
   "nbconvert_exporter": "python",
   "pygments_lexer": "ipython3",
   "version": "3.8.8"
  }
 },
 "nbformat": 4,
 "nbformat_minor": 5
}
