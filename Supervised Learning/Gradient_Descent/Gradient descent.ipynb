{
 "cells": [
  {
   "cell_type": "markdown",
   "id": "5b5b19d7",
   "metadata": {},
   "source": [
    "# Gradient Descent\n",
    "\n",
    "----\n",
    "Gradient descent (GD) is a common method to minimize the risk function, loss function, and is the most common optimization algorithm for neural network model training. For deep learning models, gradient descent algorithm is basically used for optimization training.\n"
   ]
  },
  {
   "cell_type": "code",
   "execution_count": 18,
   "id": "0c57864c",
   "metadata": {},
   "outputs": [],
   "source": [
    "import numpy as np \n",
    "import pandas as pd \n",
    "import matplotlib.pyplot as plt\n",
    "import random\n",
    "import datetime"
   ]
  },
  {
   "cell_type": "markdown",
   "id": "602ca46d",
   "metadata": {},
   "source": [
    "# Gradient descent apply to Linear regression\n",
    "\n",
    "-----\n",
    "- Mathematical formulation\n",
    "- Loss function\n",
    "\\begin{aligned}J(\\theta) = \\frac{1}{2m}\\sum_{i=1}^{n} (h_\\theta(x_i) - y_i)^2\\end{aligned}\n",
    "- Gradient descent\n",
    "\\begin{aligned}\\theta_j =\\theta_j- \\alpha\\frac{1}{m}\\sum_{i=1}^{n} (h_\\theta(x_i) - y_i)^2x_i^j\\end{aligned}"
   ]
  },
  {
   "cell_type": "code",
   "execution_count": 19,
   "id": "6597853c",
   "metadata": {},
   "outputs": [],
   "source": [
    "class GradientDescentLinearRegression:\n",
    "    def __init__(self, learning_rate=0.01, iterations=1000):\n",
    "        self.learning_rate, self.iterations = learning_rate, iterations\n",
    "    \n",
    "    def fit(self, X, y):\n",
    "        b = 0\n",
    "        m = 5\n",
    "        n = X.shape[0]\n",
    "        for _ in range(self.iterations):\n",
    "            b_gradient = -2 * np.sum(y - m*X + b) / n\n",
    "            m_gradient = -2 * np.sum(X*(y - (m*X + b))) / n\n",
    "            b = b + (self.learning_rate * b_gradient)\n",
    "            m = m - (self.learning_rate * m_gradient)\n",
    "        self.m, self.b = m, b\n",
    "        \n",
    "    def predict(self, X):\n",
    "        return self.m*X + self.b"
   ]
  },
  {
   "cell_type": "markdown",
   "id": "2f352884",
   "metadata": {},
   "source": [
    "# Generate random data"
   ]
  },
  {
   "cell_type": "code",
   "execution_count": 20,
   "id": "5d770c8a",
   "metadata": {},
   "outputs": [],
   "source": [
    "np.random.seed(42)\n",
    "X = np.array(sorted(list(range(5))*20)) + np.random.normal(size=100, scale=0.5)\n",
    "y = np.array(sorted(list(range(5))*20)) + np.random.normal(size=100, scale=0.25)\n"
   ]
  },
  {
   "cell_type": "markdown",
   "id": "d2e07189",
   "metadata": {},
   "source": [
    "# Result of GDLR"
   ]
  },
  {
   "cell_type": "code",
   "execution_count": 21,
   "id": "0048906f",
   "metadata": {},
   "outputs": [
    {
     "data": {
      "text/plain": [
       "Text(0.5, 1.0, 'Gradient Descent')"
      ]
     },
     "execution_count": 21,
     "metadata": {},
     "output_type": "execute_result"
    },
    {
     "data": {
      "image/png": "[encoded data removed]",
      "text/plain": [
       "<Figure size 432x288 with 1 Axes>"
      ]
     },
     "metadata": {},
     "output_type": "display_data"
    }
   ],
   "source": [
    "clf = GradientDescentLinearRegression()\n",
    "clf.fit(X, y)\n",
    "plt.style.use('fivethirtyeight')\n",
    "plt.scatter(X, y, color='black')\n",
    "plt.plot(X, clf.predict(X))\n",
    "plt.gca().set_title(\"Gradient Descent\")"
   ]
  },
  {
   "cell_type": "markdown",
   "id": "d2588ab6",
   "metadata": {},
   "source": [
    "#  Batch Gradient Descent\n",
    "-----\n",
    "In each update with all samples, it is important to note that in gradient descent, for the update of $\\theta_i$, all samples contribute, that is, participate in adjusting $\\theta$. Its calculation yields a standard gradient, and for the optimization problem, convex problem, a global optimum can certainly be reached as well. Thus, the magnitude of one update is theoretically larger. If there are not many samples, of course, the convergence speed will be faster. However, in many cases, the samples are large and it takes a long time to update once, so this method is not suitable.\n",
    "\n"
   ]
  },
  {
   "cell_type": "code",
   "execution_count": 22,
   "id": "6863ea40",
   "metadata": {},
   "outputs": [],
   "source": [
    "def bgd(samples, y, step_size=0.01, max_iteration_count=10000):\n",
    "    sample_num, dimension = samples.shape\n",
    "    w = np.ones((dimension,1), dtype=np.float32)\n",
    "    loss_collection = []\n",
    "    loss = 1\n",
    "    iteration_count = 0\n",
    "    #Iterate when the loss is greater than the threshold and the number of \n",
    "    #iterations is less than the maximum number of iterations\n",
    "    while loss > 0.001 and iteration_count < max_iteration_count:\n",
    "        loss = 0\n",
    "        gradient = np.zeros((dimension,1), dtype=np.float32)\n",
    "        for i in range(sample_num):\n",
    "            predict_y = np.dot(w.T, samples[i])\n",
    "            for j in range(dimension):\n",
    "                gradient[j] += (predict_y - y[i]) * samples[i][j]\n",
    "        #  Update weights\n",
    "        for j in range(dimension):\n",
    "            w[j] -= step_size * gradient[j]\n",
    "        #  Calculate the current loss value\n",
    "        for i in range(sample_num):\n",
    "            predict_y = np.dot(w.T, samples[i])\n",
    "            loss += np.power((predict_y - y[i]), 2)\n",
    "        #  Store the loss in a chain table for subsequent drawing\n",
    "        loss_collection.append(loss)\n",
    "        iteration_count += 1\n",
    "    return w,loss_collection\n",
    "\n"
   ]
  },
  {
   "cell_type": "markdown",
   "id": "6d6549f3",
   "metadata": {},
   "source": [
    "# Stochastic Gradient Descent\n",
    "-----\n",
    "stochastic is to say we use an example of the sample to approximate all my samples, to adjust $\\theta$, and thus stochastic gradient descent is will bring certain problems, because the calculation is not the exact one gradient, for optimization problems, convex problems, although not each iteration to get the loss function are toward the global optimal direction, but the large overall direction is often in the global optimal solution. However, the overall direction is toward the global optimum, and the final result is often near the global optimum. However, compared to the batch gradient, this method is faster and converges faster, although it is not globally optimal, it is often acceptable.\n",
    "\n"
   ]
  },
  {
   "cell_type": "code",
   "execution_count": 23,
   "id": "02920d14",
   "metadata": {},
   "outputs": [],
   "source": [
    "def sgd(samples, y, step_size=0.001, max_iteration_count=10000):\n",
    "    sample_num, dimension = samples.shape\n",
    "    w = np.ones((dimension,1), dtype=np.float32)\n",
    "    loss_collection = []\n",
    "    loss = 1\n",
    "    iteration_count = 0\n",
    "    while loss > 0.001 and iteration_count < max_iteration_count:\n",
    "        loss = 0\n",
    "        gradient = np.zeros((dimension,1), dtype=np.float32)\n",
    "        #  Unlike BGD, here a random sample is taken for weight update\n",
    "        sample_index = random.randint(0, sample_num-1)\n",
    "        predict_y = np.dot(w.T, samples[sample_index])\n",
    "        for j in range(dimension):\n",
    "            gradient[j] += (predict_y - y[sample_index]) * samples[sample_index][j]\n",
    "            w[j] -= step_size * gradient[j]\n",
    "\n",
    "        for i in range(sample_num):\n",
    "            predict_y = np.dot(w.T, samples[i])\n",
    "            loss += np.power((predict_y - y[i]), 2)\n",
    "\n",
    "        loss_collection.append(loss)\n",
    "        iteration_count += 1\n",
    "    return w,loss_collection\n"
   ]
  },
  {
   "cell_type": "markdown",
   "id": "575b62ab",
   "metadata": {},
   "source": [
    "# Compare BGD with SGD"
   ]
  },
  {
   "cell_type": "code",
   "execution_count": 24,
   "id": "9aec8441",
   "metadata": {},
   "outputs": [
    {
     "name": "stdout",
     "output_type": "stream",
     "text": [
      "bgd_w: [[2.8636951]\n",
      " [4.5708055]]\n",
      "bgd predict_y: [[12.00530624 28.58141804 18.88928127 20.59639168]]\n",
      "bgd_time: 0.076152 s\n",
      "sgd_w: [[2.9542563]\n",
      " [4.538947 ]]\n",
      "sgd predict_y: [[12.03215051 28.60324812 19.31022859 20.8949194 ]]\n",
      "sgd_time: 0.040569 s\n"
     ]
    },
    {
     "data": {
      "image/png": "[encoded data removed]",
      "text/plain": [
       "<Figure size 432x288 with 1 Axes>"
      ]
     },
     "metadata": {},
     "output_type": "display_data"
    }
   ],
   "source": [
    "\n",
    "if __name__ == '__main__':\n",
    "    samples = np.array([[1,2,5,4],\n",
    "                        [2,5,1,2]]).T\n",
    "    y = np.array([19,26,19,20]).reshape((4,1))\n",
    "    #  current time\n",
    "    time = datetime.datetime.now();\n",
    "    bgd_w,bgd_loss_collection = bgd(samples, y, 0.001, 1000)\n",
    "    #  time after BGD calculation\n",
    "    time_afterBGD = datetime.datetime.now();\n",
    "    sgd_w,sgd_loss_collection = sgd(samples, y, 0.001, 1000)\n",
    "    #  Time after SGD\n",
    "    time_afterSGD = datetime.datetime.now();\n",
    "    # Draw the loss direction diagram\n",
    "    epochs = range(1, len(bgd_loss_collection)+1)\n",
    "    plt.plot(epochs, bgd_loss_collection, 'b', label='BGD loss')\n",
    "    plt.plot(epochs, sgd_loss_collection, 'r', label='SGD loss')\n",
    "    plt.title('GD and SGD loss')\n",
    "    plt.legend()\n",
    "    plt.savefig('GD and SGD loss.png',dpi = 300)\n",
    "    #  Print out the relevant results\n",
    "    print('bgd_w:',bgd_w)\n",
    "    print('bgd predict_y:',np.dot(bgd_w.T, samples.T))\n",
    "    print('bgd_time:',(time_afterBGD-time).total_seconds(),'s')\n",
    "    print('sgd_w:',sgd_w)\n",
    "    print('sgd predict_y:',np.dot(sgd_w.T, samples.T))\n",
    "    print('sgd_time:',(time_afterSGD-time_afterBGD).total_seconds(),'s')"
   ]
  },
  {
   "cell_type": "markdown",
   "id": "eec8d7f0",
   "metadata": {},
   "source": [
    "# Conclusion\n",
    "-----\n",
    "We can see that BGD algorithm calculate faster than SGD, it's different from what I expected. It may because the sample size is small. When sample size get bigger the SGD could be faster."
   ]
  },
  {
   "cell_type": "code",
   "execution_count": null,
   "id": "4cf94501",
   "metadata": {},
   "outputs": [],
   "source": []
  },
  {
   "cell_type": "code",
   "execution_count": null,
   "id": "b116a9ef",
   "metadata": {},
   "outputs": [],
   "source": []
  },
  {
   "cell_type": "code",
   "execution_count": null,
   "id": "88f03daa",
   "metadata": {},
   "outputs": [],
   "source": []
  }
 ],
 "metadata": {
  "kernelspec": {
   "display_name": "Python 3",
   "language": "python",
   "name": "python3"
  },
  "language_info": {
   "codemirror_mode": {
    "name": "ipython",
    "version": 3
   },
   "file_extension": ".py",
   "mimetype": "text/x-python",
   "name": "python",
   "nbconvert_exporter": "python",
   "pygments_lexer": "ipython3",
   "version": "3.8.8"
  }
 },
 "nbformat": 4,
 "nbformat_minor": 5
}
